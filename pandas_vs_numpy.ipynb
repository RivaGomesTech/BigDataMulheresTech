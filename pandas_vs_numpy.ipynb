{
 "cells": [
  {
   "cell_type": "markdown",
   "metadata": {},
   "source": [
    "**Diferenças entre PANDAS e NUMPY:** "
   ]
  },
  {
   "cell_type": "markdown",
   "metadata": {},
   "source": [
    "PANDAS:\n",
    "\n",
    "1. Melhor forma de trabalhar com dados tabulares (dataframe).\n",
    "\n",
    "2. As ferramentas poderosas são os comandos DATAFRAME e SERIES.\n",
    "\n",
    "3. Consome mais memória.\n",
    "\n",
    "4. Possui melhor desempenho se o número de linhas da matriz precisar ser maior do que 500k.\n",
    "\n",
    "5. Oferece um recurso para visualizar tabelas 2D chamadas DATAFRAMES.\n"
   ]
  },
  {
   "cell_type": "markdown",
   "metadata": {},
   "source": [
    "NUMPY: \n",
    "\n",
    "1. Melhor forma de trabalhar com dados numéricos (série).\n",
    "\n",
    "2. A ferramenta poderosa é através dos comandos de ARRAYS.\n",
    "\n",
    "3. Mais eficiente em termos de memória.\n",
    "\n",
    "4. É mais eficiente quando o número de linhas do array é de 50k ou menos.\n",
    "\n",
    "5. Trabalha com MATRIZES MULTIDIMENSIONAIS."
   ]
  },
  {
   "cell_type": "code",
   "execution_count": null,
   "metadata": {},
   "outputs": [],
   "source": [
    "#Próxima Aula:\n",
    "\n",
    "#Pesquisa:\n",
    "\n",
    "#Comandos:\n",
    "\n",
    ".dtype\n",
    ".shape\n",
    ".zeros\n",
    ".ones\n",
    ".empty\n",
    ".arange\n",
    ".random\n",
    ".split \n",
    ".reshape\n",
    ".concatenate\n",
    ".describe\n",
    "\n"
   ]
  }
 ],
 "metadata": {
  "kernelspec": {
   "display_name": "virtual1",
   "language": "python",
   "name": "python3"
  },
  "language_info": {
   "codemirror_mode": {
    "name": "ipython",
    "version": 3
   },
   "file_extension": ".py",
   "mimetype": "text/x-python",
   "name": "python",
   "nbconvert_exporter": "python",
   "pygments_lexer": "ipython3",
   "version": "3.11.4"
  },
  "orig_nbformat": 4
 },
 "nbformat": 4,
 "nbformat_minor": 2
}
