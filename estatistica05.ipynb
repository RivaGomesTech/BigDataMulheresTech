{
 "cells": [
  {
   "cell_type": "markdown",
   "metadata": {},
   "source": [
    "**Variância, Desvio-Padrão e Coeficiente de Variação:**"
   ]
  },
  {
   "cell_type": "code",
   "execution_count": 30,
   "metadata": {},
   "outputs": [],
   "source": [
    "import pandas as pd\n",
    "import numpy as np"
   ]
  },
  {
   "cell_type": "code",
   "execution_count": 31,
   "metadata": {},
   "outputs": [],
   "source": [
    "amostra=np.array([2500,3200,2700,3000,3400,3700,4500,4700,5000,5200,6000,7000])"
   ]
  },
  {
   "cell_type": "code",
   "execution_count": 32,
   "metadata": {},
   "outputs": [
    {
     "name": "stdout",
     "output_type": "stream",
     "text": [
      "4241.666666666667\n"
     ]
    }
   ],
   "source": [
    "media=np.mean(amostra)\n",
    "print(media)\n",
    "#media=sum(amostra)/len(amostra)"
   ]
  },
  {
   "cell_type": "code",
   "execution_count": 33,
   "metadata": {},
   "outputs": [
    {
     "data": {
      "text/plain": [
       "[np.float64(-1741.666666666667),\n",
       " np.float64(-1041.666666666667),\n",
       " np.float64(-1541.666666666667),\n",
       " np.float64(-1241.666666666667),\n",
       " np.float64(-841.666666666667),\n",
       " np.float64(-541.666666666667),\n",
       " np.float64(258.33333333333303),\n",
       " np.float64(458.33333333333303),\n",
       " np.float64(758.333333333333),\n",
       " np.float64(958.333333333333),\n",
       " np.float64(1758.333333333333),\n",
       " np.float64(2758.333333333333)]"
      ]
     },
     "metadata": {},
     "output_type": "display_data"
    }
   ],
   "source": [
    "#diferenças em relação à média\n",
    "diferencas=[x - media for x in amostra]\n",
    "display(diferencas)"
   ]
  },
  {
   "cell_type": "code",
   "execution_count": 34,
   "metadata": {},
   "outputs": [
    {
     "data": {
      "text/plain": [
       "[np.float64(3033402.777777779),\n",
       " np.float64(1085069.444444445),\n",
       " np.float64(2376736.111111112),\n",
       " np.float64(1541736.111111112),\n",
       " np.float64(708402.7777777783),\n",
       " np.float64(293402.7777777781),\n",
       " np.float64(66736.11111111095),\n",
       " np.float64(210069.44444444418),\n",
       " np.float64(575069.444444444),\n",
       " np.float64(918402.7777777772),\n",
       " np.float64(3091736.11111111),\n",
       " np.float64(7608402.777777776)]"
      ]
     },
     "metadata": {},
     "output_type": "display_data"
    }
   ],
   "source": [
    "#elevando as diferenças ao quadrado\n",
    "quadrados_das_diferencas=[x ** 2 for x in diferencas]\n",
    "display(quadrados_das_diferencas)"
   ]
  },
  {
   "cell_type": "code",
   "execution_count": 35,
   "metadata": {},
   "outputs": [
    {
     "name": "stdout",
     "output_type": "stream",
     "text": [
      "1792430.5555555553\n"
     ]
    }
   ],
   "source": [
    "#calcular a média dos quadrados das diferenças\n",
    "variancia=sum(quadrados_das_diferencas)/len(quadrados_das_diferencas)\n",
    "print(variancia)"
   ]
  },
  {
   "cell_type": "code",
   "execution_count": 36,
   "metadata": {},
   "outputs": [
    {
     "name": "stdout",
     "output_type": "stream",
     "text": [
      "1338.816849145377\n"
     ]
    }
   ],
   "source": [
    "#calcular o desvio-padrão (raiz quadrada da variância)\n",
    "desviopadrao=variancia**0.5\n",
    "print(desviopadrao)"
   ]
  },
  {
   "cell_type": "markdown",
   "metadata": {},
   "source": [
    "**Resumo Estatístico com Numpy e Pandas:**"
   ]
  },
  {
   "cell_type": "code",
   "execution_count": 37,
   "metadata": {},
   "outputs": [
    {
     "data": {
      "text/plain": [
       "array([2500, 3200, 2700, 3000, 3400, 3700, 4500, 4700, 5000, 5200, 6000,\n",
       "       7000])"
      ]
     },
     "metadata": {},
     "output_type": "display_data"
    },
    {
     "name": "stdout",
     "output_type": "stream",
     "text": [
      "1792430.5555555557\n",
      "1338.8168491453773\n"
     ]
    }
   ],
   "source": [
    "display(amostra)\n",
    "#Numpy - cálculo da variância\n",
    "variancia=np.var(amostra)\n",
    "print(variancia)\n",
    "\n",
    "#Numpy - cálculo do desvio-padrão\n",
    "desviopadrao=np.std(amostra)\n",
    "print(desviopadrao)"
   ]
  },
  {
   "cell_type": "code",
   "execution_count": 38,
   "metadata": {},
   "outputs": [
    {
     "name": "stdout",
     "output_type": "stream",
     "text": [
      "1955378.787878788\n",
      "1398.3485931193222\n"
     ]
    },
    {
     "data": {
      "text/plain": [
       "0     2500\n",
       "1     3200\n",
       "2     2700\n",
       "3     3000\n",
       "4     3400\n",
       "5     3700\n",
       "6     4500\n",
       "7     4700\n",
       "8     5000\n",
       "9     5200\n",
       "10    6000\n",
       "11    7000\n",
       "dtype: int64"
      ]
     },
     "metadata": {},
     "output_type": "display_data"
    }
   ],
   "source": [
    "\n",
    "#Pandas - cálculo da variância\n",
    "amostra2=pd.Series(amostra)\n",
    "variancia=amostra2.var()\n",
    "print(variancia)\n",
    "\n",
    "#Pandas - cálculo do desvio-padrão\n",
    "desviopadrao=amostra2.std()\n",
    "print(desviopadrao)\n",
    "\n",
    "display(amostra2)"
   ]
  },
  {
   "cell_type": "markdown",
   "metadata": {},
   "source": [
    "**Coeficiente de Variação e Análise de Dispersão:**"
   ]
  },
  {
   "cell_type": "code",
   "execution_count": 39,
   "metadata": {},
   "outputs": [
    {
     "name": "stdout",
     "output_type": "stream",
     "text": [
      "0.3296696093798009\n"
     ]
    }
   ],
   "source": [
    "#coeficiente de variação (CV) é o desvio-padrão dividido pela média\n",
    "coef_variacao=desviopadrao/media\n",
    "print(coef_variacao)"
   ]
  },
  {
   "cell_type": "code",
   "execution_count": 40,
   "metadata": {},
   "outputs": [
    {
     "name": "stdout",
     "output_type": "stream",
     "text": [
      "10.868205134863054 %\n"
     ]
    }
   ],
   "source": [
    "#cálculo da distância da variância em relação à média\n",
    "distancia=variancia / (media**2)\n",
    "print(distancia*100,'%')"
   ]
  },
  {
   "cell_type": "markdown",
   "metadata": {},
   "source": [
    "Como eu interpreto isso?\n",
    "\n",
    "1. distância <= 10%: minha dispersão é BAIXA;\n",
    "2. distância > 10% e <= 25%: minha dispersão é MODERADA;\n",
    "3. distância > 25%: minha dispersão é ALTA."
   ]
  },
  {
   "cell_type": "markdown",
   "metadata": {},
   "source": [
    "ATIVIDADE: atualize o resumo estatístico da sua amostra random com:\n",
    "\n",
    "- variância\n",
    "- desvio-padrão\n",
    "- coeficiente de variação\n",
    "- dispersão"
   ]
  }
 ],
 "metadata": {
  "kernelspec": {
   "display_name": "virtual1",
   "language": "python",
   "name": "python3"
  },
  "language_info": {
   "codemirror_mode": {
    "name": "ipython",
    "version": 3
   },
   "file_extension": ".py",
   "mimetype": "text/x-python",
   "name": "python",
   "nbconvert_exporter": "python",
   "pygments_lexer": "ipython3",
   "version": "3.11.4"
  },
  "orig_nbformat": 4
 },
 "nbformat": 4,
 "nbformat_minor": 2
}
