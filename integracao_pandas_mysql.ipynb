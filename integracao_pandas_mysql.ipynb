{
 "cells": [
  {
   "cell_type": "markdown",
   "metadata": {},
   "source": [
    "INTEGRAÇÃO PANDAS + MYSQL\n",
    "\n",
    "NO TERMINAL:\n",
    "pip install sqlalchemy pymysql\n",
    "\n",
    "Código no arquivo .py:"
   ]
  },
  {
   "cell_type": "code",
   "execution_count": 1,
   "metadata": {},
   "outputs": [
    {
     "name": "stdout",
     "output_type": "stream",
     "text": [
      "   matricula nome_aluno genero\n",
      "0          1     Marina      F\n",
      "1          2      Joana      F\n"
     ]
    }
   ],
   "source": [
    "from sqlalchemy import create_engine\n",
    "import pandas as pd\n",
    "\n",
    "host='localhost'\n",
    "\n",
    "user='root'\n",
    "\n",
    "password='senac%40123'\n",
    "\n",
    "database='mulherestech'\n",
    "\n",
    "engine=create_engine(f'mysql+pymysql://{user}:{password}@{host}/{database}')\n",
    "\n",
    "df=pd.read_sql('alunos',con=engine)\n",
    "print(df)"
   ]
  },
  {
   "cell_type": "markdown",
   "metadata": {},
   "source": [
    "#ATIVIDADE (github):\n",
    "\n",
    "#Crie mais duas tabelas (sugestão: 'cursos' e 'filiais') no mesmo banco de dados\n",
    "#onde você criou 'alunos' e 'professores'. Façam mais características para essas tabelas (ao menos 5)\n",
    "#e criem, pelo menos, 10 injeções de dados para as novas tabelas e 1 consulta para cada uma delas. \n",
    "# No final, peça (no VSCode) para que o Pandas leia cada tabela nova que foi criada."
   ]
  }
 ],
 "metadata": {
  "kernelspec": {
   "display_name": "Python 3",
   "language": "python",
   "name": "python3"
  },
  "language_info": {
   "codemirror_mode": {
    "name": "ipython",
    "version": 3
   },
   "file_extension": ".py",
   "mimetype": "text/x-python",
   "name": "python",
   "nbconvert_exporter": "python",
   "pygments_lexer": "ipython3",
   "version": "3.11.4"
  },
  "orig_nbformat": 4
 },
 "nbformat": 4,
 "nbformat_minor": 2
}
