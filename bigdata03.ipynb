{
 "cells": [
  {
   "cell_type": "markdown",
   "metadata": {},
   "source": [
    "**BIG DATA: Pré-processamento de Dados - 2**\n",
    "\n",
    "Arquivos Parquet: um dos mais (senão o mais leve) formato para se trabalhar com dados volumosos em larga escala,\n",
    "superando a economia de espaço em disco de formatos como Pickle e Feather.\n",
    "\n",
    "Documentação: https://parquet.apache.org/docs/overview/\n",
    "\n",
    "Pandas possui duas formas de trabalhar com esse formato de arquivo: pelas bibliotecas *pyarrow* ou *fastparquet*.\n",
    "\n",
    "Polars possui suporte nativo para o processamento, sem precisar de bibliotecas externas."
   ]
  },
  {
   "cell_type": "code",
   "execution_count": 2,
   "metadata": {},
   "outputs": [],
   "source": [
    "import pandas as pd\n",
    "import polars as pl\n",
    "import time\n",
    "import pyarrow as pa #não esqueça de instalar! pip install pyarrow pandas\n",
    "import fastparquet as fp #não esqueça de instalar! pip install fastparquet pandas\n"
   ]
  },
  {
   "cell_type": "code",
   "execution_count": 3,
   "metadata": {},
   "outputs": [
    {
     "data": {
      "text/plain": [
       "'arquivo1=pd.read_csv(\"202401_NovoBolsaFamilia.csv\", sep=\";\", encoding=\"latin-1\") #caminhos dos arquivos\\narquivo2=pd.read_csv(\"202402_NovoBolsaFamilia.csv\", sep=\";\", encoding=\"latin-1\")\\n\\ninicio_tempo=time.time() #marcação do tempo de processamento\\ndf_pandas=pd.concat([arquivo1,arquivo2])\\n\\ndisplay(df_pandas.head())\\n\\nprint(\"Tempo de execução com Pandas:\", time.time() - inicio_tempo, \"segundos\")\\n\\nimport pyarrow.csv as pv\\nimport pyarrow.parquet as pq\\n\\npq.write_table(arquivo1,\"202401_NovoBolsaFamilia.csv\".replace(\\'csv\\',\\'parquet\\'))\\n'"
      ]
     },
     "execution_count": 3,
     "metadata": {},
     "output_type": "execute_result"
    }
   ],
   "source": [
    "# Para fins de notação: esse é o método via Pandas; em ambiente de sala, se mostrou conflitante com o ambiente virtual e ineficiente. PODEM FOCAR\n",
    "# na compressão para arquivos .parquet via POLARS!!\n",
    "\n",
    "'''arquivo1=pd.read_csv(\"202401_NovoBolsaFamilia.csv\", sep=\";\", encoding=\"latin-1\") #caminhos dos arquivos\n",
    "arquivo2=pd.read_csv(\"202402_NovoBolsaFamilia.csv\", sep=\";\", encoding=\"latin-1\")\n",
    "\n",
    "inicio_tempo=time.time() #marcação do tempo de processamento\n",
    "df_pandas=pd.concat([arquivo1,arquivo2])\n",
    "\n",
    "display(df_pandas.head())\n",
    "\n",
    "print(\"Tempo de execução com Pandas:\", time.time() - inicio_tempo, \"segundos\")\n",
    "\n",
    "import pyarrow.csv as pv\n",
    "import pyarrow.parquet as pq\n",
    "\n",
    "pq.write_table(arquivo1,\"202401_NovoBolsaFamilia.csv\".replace('csv','parquet'))\n",
    "''' "
   ]
  },
  {
   "cell_type": "code",
   "execution_count": 4,
   "metadata": {},
   "outputs": [
    {
     "data": {
      "text/html": [
       "<div><style>\n",
       ".dataframe > thead > tr,\n",
       ".dataframe > tbody > tr {\n",
       "  text-align: right;\n",
       "  white-space: pre-wrap;\n",
       "}\n",
       "</style>\n",
       "<small>shape: (5, 9)</small><table border=\"1\" class=\"dataframe\"><thead><tr><th>MÊS COMPETÊNCIA</th><th>MÊS REFERÊNCIA</th><th>UF</th><th>CÓDIGO MUNICÍPIO SIAFI</th><th>NOME MUNICÍPIO</th><th>CPF FAVORECIDO</th><th>NIS FAVORECIDO</th><th>NOME FAVORECIDO</th><th>VALOR PARCELA</th></tr><tr><td>i64</td><td>i64</td><td>str</td><td>i64</td><td>str</td><td>str</td><td>i64</td><td>str</td><td>str</td></tr></thead><tbody><tr><td>202401</td><td>202303</td><td>&quot;AC&quot;</td><td>139</td><td>&quot;RIO BRANCO&quot;</td><td>&quot;***.511.972-**&quot;</td><td>16291115205</td><td>&quot;JANAINA FERREIRA DA SILVA&quot;</td><td>&quot;800,00&quot;</td></tr><tr><td>202401</td><td>202303</td><td>&quot;BA&quot;</td><td>3329</td><td>&quot;ANGUERA&quot;</td><td>&quot;***.909.745-**&quot;</td><td>20474429886</td><td>&quot;TACIANE MARQUES DA SILVA&quot;</td><td>&quot;750,00&quot;</td></tr><tr><td>202401</td><td>202303</td><td>&quot;BA&quot;</td><td>3731</td><td>&quot;MONTE SANTO&quot;</td><td>&quot;***.872.338-**&quot;</td><td>20195376298</td><td>&quot;MAILSON DOS SANTOS SILVA&quot;</td><td>&quot;650,00&quot;</td></tr><tr><td>202401</td><td>202303</td><td>&quot;BA&quot;</td><td>3761</td><td>&quot;NOVA VICOSA&quot;</td><td>&quot;***.665.905-**&quot;</td><td>12723589082</td><td>&quot;IRENI RICARDO GERALDO&quot;</td><td>&quot;650,00&quot;</td></tr><tr><td>202401</td><td>202303</td><td>&quot;BA&quot;</td><td>3849</td><td>&quot;SALVADOR&quot;</td><td>&quot;***.932.435-**&quot;</td><td>20024584007</td><td>&quot;ELIENE GOMES DOS SANTOS&quot;</td><td>&quot;850,00&quot;</td></tr></tbody></table></div>"
      ],
      "text/plain": [
       "shape: (5, 9)\n",
       "┌────────────┬────────────┬─────┬────────────┬───┬────────────┬────────────┬───────────┬───────────┐\n",
       "│ MÊS COMPET ┆ MÊS        ┆ UF  ┆ CÓDIGO     ┆ … ┆ CPF        ┆ NIS        ┆ NOME FAVO ┆ VALOR     │\n",
       "│ ÊNCIA      ┆ REFERÊNCIA ┆ --- ┆ MUNICÍPIO  ┆   ┆ FAVORECIDO ┆ FAVORECIDO ┆ RECIDO    ┆ PARCELA   │\n",
       "│ ---        ┆ ---        ┆ str ┆ SIAFI      ┆   ┆ ---        ┆ ---        ┆ ---       ┆ ---       │\n",
       "│ i64        ┆ i64        ┆     ┆ ---        ┆   ┆ str        ┆ i64        ┆ str       ┆ str       │\n",
       "│            ┆            ┆     ┆ i64        ┆   ┆            ┆            ┆           ┆           │\n",
       "╞════════════╪════════════╪═════╪════════════╪═══╪════════════╪════════════╪═══════════╪═══════════╡\n",
       "│ 202401     ┆ 202303     ┆ AC  ┆ 139        ┆ … ┆ ***.511.97 ┆ 1629111520 ┆ JANAINA   ┆ 800,00    │\n",
       "│            ┆            ┆     ┆            ┆   ┆ 2-**       ┆ 5          ┆ FERREIRA  ┆           │\n",
       "│            ┆            ┆     ┆            ┆   ┆            ┆            ┆ DA SILVA  ┆           │\n",
       "│ 202401     ┆ 202303     ┆ BA  ┆ 3329       ┆ … ┆ ***.909.74 ┆ 2047442988 ┆ TACIANE   ┆ 750,00    │\n",
       "│            ┆            ┆     ┆            ┆   ┆ 5-**       ┆ 6          ┆ MARQUES   ┆           │\n",
       "│            ┆            ┆     ┆            ┆   ┆            ┆            ┆ DA SILVA  ┆           │\n",
       "│ 202401     ┆ 202303     ┆ BA  ┆ 3731       ┆ … ┆ ***.872.33 ┆ 2019537629 ┆ MAILSON   ┆ 650,00    │\n",
       "│            ┆            ┆     ┆            ┆   ┆ 8-**       ┆ 8          ┆ DOS       ┆           │\n",
       "│            ┆            ┆     ┆            ┆   ┆            ┆            ┆ SANTOS    ┆           │\n",
       "│            ┆            ┆     ┆            ┆   ┆            ┆            ┆ SILVA     ┆           │\n",
       "│ 202401     ┆ 202303     ┆ BA  ┆ 3761       ┆ … ┆ ***.665.90 ┆ 1272358908 ┆ IRENI     ┆ 650,00    │\n",
       "│            ┆            ┆     ┆            ┆   ┆ 5-**       ┆ 2          ┆ RICARDO   ┆           │\n",
       "│            ┆            ┆     ┆            ┆   ┆            ┆            ┆ GERALDO   ┆           │\n",
       "│ 202401     ┆ 202303     ┆ BA  ┆ 3849       ┆ … ┆ ***.932.43 ┆ 2002458400 ┆ ELIENE    ┆ 850,00    │\n",
       "│            ┆            ┆     ┆            ┆   ┆ 5-**       ┆ 7          ┆ GOMES DOS ┆           │\n",
       "│            ┆            ┆     ┆            ┆   ┆            ┆            ┆ SANTOS    ┆           │\n",
       "└────────────┴────────────┴─────┴────────────┴───┴────────────┴────────────┴───────────┴───────────┘"
      ]
     },
     "metadata": {},
     "output_type": "display_data"
    },
    {
     "name": "stdout",
     "output_type": "stream",
     "text": [
      "Tempo de execução com Polars: 0.054993629455566406 segundos\n"
     ]
    }
   ],
   "source": [
    "#JANEIRO E FEVEREIRO:\n",
    "arquivo1=pl.read_csv(\"202401_NovoBolsaFamilia.csv\", separator=\";\", encoding=\"latin-1\") #caminhos dos arquivos\n",
    "arquivo2=pl.read_csv(\"202402_NovoBolsaFamilia.csv\", separator=\";\", encoding=\"latin-1\")\n",
    "\n",
    "inicio_tempo=time.time() #marcação do tempo de processamento\n",
    "df_polars=pl.concat([arquivo1,arquivo2])\n",
    "\n",
    "display(df_polars.head())\n",
    "\n",
    "print(\"Tempo de execução com Polars:\", time.time() - inicio_tempo, \"segundos\") "
   ]
  },
  {
   "cell_type": "code",
   "execution_count": 5,
   "metadata": {},
   "outputs": [],
   "source": [
    "df_polars.write_parquet('bimestre1.parquet')"
   ]
  },
  {
   "cell_type": "markdown",
   "metadata": {},
   "source": [
    "Façamos isso para os demais arquivos, localizando-os por bimestre:"
   ]
  },
  {
   "cell_type": "code",
   "execution_count": 6,
   "metadata": {},
   "outputs": [
    {
     "data": {
      "text/html": [
       "<div><style>\n",
       ".dataframe > thead > tr,\n",
       ".dataframe > tbody > tr {\n",
       "  text-align: right;\n",
       "  white-space: pre-wrap;\n",
       "}\n",
       "</style>\n",
       "<small>shape: (5, 9)</small><table border=\"1\" class=\"dataframe\"><thead><tr><th>MÊS COMPETÊNCIA</th><th>MÊS REFERÊNCIA</th><th>UF</th><th>CÓDIGO MUNICÍPIO SIAFI</th><th>NOME MUNICÍPIO</th><th>CPF FAVORECIDO</th><th>NIS FAVORECIDO</th><th>NOME FAVORECIDO</th><th>VALOR PARCELA</th></tr><tr><td>i64</td><td>i64</td><td>str</td><td>i64</td><td>str</td><td>str</td><td>i64</td><td>str</td><td>str</td></tr></thead><tbody><tr><td>202401</td><td>202303</td><td>&quot;AC&quot;</td><td>139</td><td>&quot;RIO BRANCO&quot;</td><td>&quot;***.511.972-**&quot;</td><td>16291115205</td><td>&quot;JANAINA FERREIRA DA SILVA&quot;</td><td>&quot;800,00&quot;</td></tr><tr><td>202401</td><td>202303</td><td>&quot;BA&quot;</td><td>3329</td><td>&quot;ANGUERA&quot;</td><td>&quot;***.909.745-**&quot;</td><td>20474429886</td><td>&quot;TACIANE MARQUES DA SILVA&quot;</td><td>&quot;750,00&quot;</td></tr><tr><td>202401</td><td>202303</td><td>&quot;BA&quot;</td><td>3731</td><td>&quot;MONTE SANTO&quot;</td><td>&quot;***.872.338-**&quot;</td><td>20195376298</td><td>&quot;MAILSON DOS SANTOS SILVA&quot;</td><td>&quot;650,00&quot;</td></tr><tr><td>202401</td><td>202303</td><td>&quot;BA&quot;</td><td>3761</td><td>&quot;NOVA VICOSA&quot;</td><td>&quot;***.665.905-**&quot;</td><td>12723589082</td><td>&quot;IRENI RICARDO GERALDO&quot;</td><td>&quot;650,00&quot;</td></tr><tr><td>202401</td><td>202303</td><td>&quot;BA&quot;</td><td>3849</td><td>&quot;SALVADOR&quot;</td><td>&quot;***.932.435-**&quot;</td><td>20024584007</td><td>&quot;ELIENE GOMES DOS SANTOS&quot;</td><td>&quot;850,00&quot;</td></tr></tbody></table></div>"
      ],
      "text/plain": [
       "shape: (5, 9)\n",
       "┌────────────┬────────────┬─────┬────────────┬───┬────────────┬────────────┬───────────┬───────────┐\n",
       "│ MÊS COMPET ┆ MÊS        ┆ UF  ┆ CÓDIGO     ┆ … ┆ CPF        ┆ NIS        ┆ NOME FAVO ┆ VALOR     │\n",
       "│ ÊNCIA      ┆ REFERÊNCIA ┆ --- ┆ MUNICÍPIO  ┆   ┆ FAVORECIDO ┆ FAVORECIDO ┆ RECIDO    ┆ PARCELA   │\n",
       "│ ---        ┆ ---        ┆ str ┆ SIAFI      ┆   ┆ ---        ┆ ---        ┆ ---       ┆ ---       │\n",
       "│ i64        ┆ i64        ┆     ┆ ---        ┆   ┆ str        ┆ i64        ┆ str       ┆ str       │\n",
       "│            ┆            ┆     ┆ i64        ┆   ┆            ┆            ┆           ┆           │\n",
       "╞════════════╪════════════╪═════╪════════════╪═══╪════════════╪════════════╪═══════════╪═══════════╡\n",
       "│ 202401     ┆ 202303     ┆ AC  ┆ 139        ┆ … ┆ ***.511.97 ┆ 1629111520 ┆ JANAINA   ┆ 800,00    │\n",
       "│            ┆            ┆     ┆            ┆   ┆ 2-**       ┆ 5          ┆ FERREIRA  ┆           │\n",
       "│            ┆            ┆     ┆            ┆   ┆            ┆            ┆ DA SILVA  ┆           │\n",
       "│ 202401     ┆ 202303     ┆ BA  ┆ 3329       ┆ … ┆ ***.909.74 ┆ 2047442988 ┆ TACIANE   ┆ 750,00    │\n",
       "│            ┆            ┆     ┆            ┆   ┆ 5-**       ┆ 6          ┆ MARQUES   ┆           │\n",
       "│            ┆            ┆     ┆            ┆   ┆            ┆            ┆ DA SILVA  ┆           │\n",
       "│ 202401     ┆ 202303     ┆ BA  ┆ 3731       ┆ … ┆ ***.872.33 ┆ 2019537629 ┆ MAILSON   ┆ 650,00    │\n",
       "│            ┆            ┆     ┆            ┆   ┆ 8-**       ┆ 8          ┆ DOS       ┆           │\n",
       "│            ┆            ┆     ┆            ┆   ┆            ┆            ┆ SANTOS    ┆           │\n",
       "│            ┆            ┆     ┆            ┆   ┆            ┆            ┆ SILVA     ┆           │\n",
       "│ 202401     ┆ 202303     ┆ BA  ┆ 3761       ┆ … ┆ ***.665.90 ┆ 1272358908 ┆ IRENI     ┆ 650,00    │\n",
       "│            ┆            ┆     ┆            ┆   ┆ 5-**       ┆ 2          ┆ RICARDO   ┆           │\n",
       "│            ┆            ┆     ┆            ┆   ┆            ┆            ┆ GERALDO   ┆           │\n",
       "│ 202401     ┆ 202303     ┆ BA  ┆ 3849       ┆ … ┆ ***.932.43 ┆ 2002458400 ┆ ELIENE    ┆ 850,00    │\n",
       "│            ┆            ┆     ┆            ┆   ┆ 5-**       ┆ 7          ┆ GOMES DOS ┆           │\n",
       "│            ┆            ┆     ┆            ┆   ┆            ┆            ┆ SANTOS    ┆           │\n",
       "└────────────┴────────────┴─────┴────────────┴───┴────────────┴────────────┴───────────┴───────────┘"
      ]
     },
     "metadata": {},
     "output_type": "display_data"
    },
    {
     "name": "stdout",
     "output_type": "stream",
     "text": [
      "Tempo de execução com Polars: 0.09268593788146973 segundos\n"
     ]
    }
   ],
   "source": [
    "#MARÇO E ABRIL:\n",
    "arquivo3=pl.read_csv(\"202403_NovoBolsaFamilia.csv\", separator=\";\", encoding=\"latin-1\") #caminhos dos arquivos\n",
    "arquivo4=pl.read_csv(\"202404_NovoBolsaFamilia.csv\", separator=\";\", encoding=\"latin-1\")\n",
    "\n",
    "inicio_tempo=time.time() #marcação do tempo de processamento\n",
    "df_polars2=pl.concat([arquivo1,arquivo2])\n",
    "\n",
    "display(df_polars2.head())\n",
    "\n",
    "print(\"Tempo de execução com Polars:\", time.time() - inicio_tempo, \"segundos\") "
   ]
  },
  {
   "cell_type": "code",
   "execution_count": 7,
   "metadata": {},
   "outputs": [],
   "source": [
    "df_polars2.write_parquet('bimestre2.parquet')"
   ]
  },
  {
   "cell_type": "code",
   "execution_count": 8,
   "metadata": {},
   "outputs": [
    {
     "data": {
      "text/html": [
       "<div><style>\n",
       ".dataframe > thead > tr,\n",
       ".dataframe > tbody > tr {\n",
       "  text-align: right;\n",
       "  white-space: pre-wrap;\n",
       "}\n",
       "</style>\n",
       "<small>shape: (5, 9)</small><table border=\"1\" class=\"dataframe\"><thead><tr><th>MÊS COMPETÊNCIA</th><th>MÊS REFERÊNCIA</th><th>UF</th><th>CÓDIGO MUNICÍPIO SIAFI</th><th>NOME MUNICÍPIO</th><th>CPF FAVORECIDO</th><th>NIS FAVORECIDO</th><th>NOME FAVORECIDO</th><th>VALOR PARCELA</th></tr><tr><td>i64</td><td>i64</td><td>str</td><td>i64</td><td>str</td><td>str</td><td>i64</td><td>str</td><td>str</td></tr></thead><tbody><tr><td>202401</td><td>202303</td><td>&quot;AC&quot;</td><td>139</td><td>&quot;RIO BRANCO&quot;</td><td>&quot;***.511.972-**&quot;</td><td>16291115205</td><td>&quot;JANAINA FERREIRA DA SILVA&quot;</td><td>&quot;800,00&quot;</td></tr><tr><td>202401</td><td>202303</td><td>&quot;BA&quot;</td><td>3329</td><td>&quot;ANGUERA&quot;</td><td>&quot;***.909.745-**&quot;</td><td>20474429886</td><td>&quot;TACIANE MARQUES DA SILVA&quot;</td><td>&quot;750,00&quot;</td></tr><tr><td>202401</td><td>202303</td><td>&quot;BA&quot;</td><td>3731</td><td>&quot;MONTE SANTO&quot;</td><td>&quot;***.872.338-**&quot;</td><td>20195376298</td><td>&quot;MAILSON DOS SANTOS SILVA&quot;</td><td>&quot;650,00&quot;</td></tr><tr><td>202401</td><td>202303</td><td>&quot;BA&quot;</td><td>3761</td><td>&quot;NOVA VICOSA&quot;</td><td>&quot;***.665.905-**&quot;</td><td>12723589082</td><td>&quot;IRENI RICARDO GERALDO&quot;</td><td>&quot;650,00&quot;</td></tr><tr><td>202401</td><td>202303</td><td>&quot;BA&quot;</td><td>3849</td><td>&quot;SALVADOR&quot;</td><td>&quot;***.932.435-**&quot;</td><td>20024584007</td><td>&quot;ELIENE GOMES DOS SANTOS&quot;</td><td>&quot;850,00&quot;</td></tr></tbody></table></div>"
      ],
      "text/plain": [
       "shape: (5, 9)\n",
       "┌────────────┬────────────┬─────┬────────────┬───┬────────────┬────────────┬───────────┬───────────┐\n",
       "│ MÊS COMPET ┆ MÊS        ┆ UF  ┆ CÓDIGO     ┆ … ┆ CPF        ┆ NIS        ┆ NOME FAVO ┆ VALOR     │\n",
       "│ ÊNCIA      ┆ REFERÊNCIA ┆ --- ┆ MUNICÍPIO  ┆   ┆ FAVORECIDO ┆ FAVORECIDO ┆ RECIDO    ┆ PARCELA   │\n",
       "│ ---        ┆ ---        ┆ str ┆ SIAFI      ┆   ┆ ---        ┆ ---        ┆ ---       ┆ ---       │\n",
       "│ i64        ┆ i64        ┆     ┆ ---        ┆   ┆ str        ┆ i64        ┆ str       ┆ str       │\n",
       "│            ┆            ┆     ┆ i64        ┆   ┆            ┆            ┆           ┆           │\n",
       "╞════════════╪════════════╪═════╪════════════╪═══╪════════════╪════════════╪═══════════╪═══════════╡\n",
       "│ 202401     ┆ 202303     ┆ AC  ┆ 139        ┆ … ┆ ***.511.97 ┆ 1629111520 ┆ JANAINA   ┆ 800,00    │\n",
       "│            ┆            ┆     ┆            ┆   ┆ 2-**       ┆ 5          ┆ FERREIRA  ┆           │\n",
       "│            ┆            ┆     ┆            ┆   ┆            ┆            ┆ DA SILVA  ┆           │\n",
       "│ 202401     ┆ 202303     ┆ BA  ┆ 3329       ┆ … ┆ ***.909.74 ┆ 2047442988 ┆ TACIANE   ┆ 750,00    │\n",
       "│            ┆            ┆     ┆            ┆   ┆ 5-**       ┆ 6          ┆ MARQUES   ┆           │\n",
       "│            ┆            ┆     ┆            ┆   ┆            ┆            ┆ DA SILVA  ┆           │\n",
       "│ 202401     ┆ 202303     ┆ BA  ┆ 3731       ┆ … ┆ ***.872.33 ┆ 2019537629 ┆ MAILSON   ┆ 650,00    │\n",
       "│            ┆            ┆     ┆            ┆   ┆ 8-**       ┆ 8          ┆ DOS       ┆           │\n",
       "│            ┆            ┆     ┆            ┆   ┆            ┆            ┆ SANTOS    ┆           │\n",
       "│            ┆            ┆     ┆            ┆   ┆            ┆            ┆ SILVA     ┆           │\n",
       "│ 202401     ┆ 202303     ┆ BA  ┆ 3761       ┆ … ┆ ***.665.90 ┆ 1272358908 ┆ IRENI     ┆ 650,00    │\n",
       "│            ┆            ┆     ┆            ┆   ┆ 5-**       ┆ 2          ┆ RICARDO   ┆           │\n",
       "│            ┆            ┆     ┆            ┆   ┆            ┆            ┆ GERALDO   ┆           │\n",
       "│ 202401     ┆ 202303     ┆ BA  ┆ 3849       ┆ … ┆ ***.932.43 ┆ 2002458400 ┆ ELIENE    ┆ 850,00    │\n",
       "│            ┆            ┆     ┆            ┆   ┆ 5-**       ┆ 7          ┆ GOMES DOS ┆           │\n",
       "│            ┆            ┆     ┆            ┆   ┆            ┆            ┆ SANTOS    ┆           │\n",
       "└────────────┴────────────┴─────┴────────────┴───┴────────────┴────────────┴───────────┴───────────┘"
      ]
     },
     "metadata": {},
     "output_type": "display_data"
    },
    {
     "name": "stdout",
     "output_type": "stream",
     "text": [
      "Tempo de execução com Polars: 0.0835256576538086 segundos\n"
     ]
    }
   ],
   "source": [
    "#MAIO E JUNHO:\n",
    "arquivo5=pl.read_csv(\"202405_NovoBolsaFamilia.csv\", separator=\";\", encoding=\"latin-1\") #caminhos dos arquivos\n",
    "arquivo6=pl.read_csv(\"202406_NovoBolsaFamilia.csv\", separator=\";\", encoding=\"latin-1\")\n",
    "\n",
    "inicio_tempo=time.time() #marcação do tempo de processamento\n",
    "df_polars3=pl.concat([arquivo1,arquivo2])\n",
    "\n",
    "display(df_polars3.head())\n",
    "\n",
    "print(\"Tempo de execução com Polars:\", time.time() - inicio_tempo, \"segundos\") "
   ]
  },
  {
   "cell_type": "code",
   "execution_count": 9,
   "metadata": {},
   "outputs": [],
   "source": [
    "df_polars3.write_parquet('bimestre3.parquet')"
   ]
  },
  {
   "cell_type": "markdown",
   "metadata": {},
   "source": [
    "Por fim, concatenamos todos os bimestres que já sofreram processo de compressão:"
   ]
  },
  {
   "cell_type": "code",
   "execution_count": 10,
   "metadata": {},
   "outputs": [],
   "source": [
    "#ARQUIVO FINAL:\n",
    "parquet1=pl.read_parquet('bimestre1.parquet')\n",
    "parquet2=pl.read_parquet('bimestre2.parquet')\n",
    "parquet3=pl.read_parquet('bimestre3.parquet')\n",
    "\n",
    "bolsa_familia=pl.concat([parquet1,parquet2,parquet3])\n",
    "\n",
    "bolsa_familia.write_parquet('bolsa_familia_final.parquet')"
   ]
  },
  {
   "cell_type": "markdown",
   "metadata": {},
   "source": [
    "**LAZY EVALUATION:**\n",
    "\n",
    "Otimiza o processamento dos dados volumosos, adiando operações\n",
    "até momentos que realmente são necessários."
   ]
  },
  {
   "cell_type": "code",
   "execution_count": 2,
   "metadata": {},
   "outputs": [],
   "source": [
    "import polars as pl\n",
    "#Carregando o arquivo .parquet através de Lazy Evaluation:\n",
    "df_lazy=pl.scan_parquet('bolsa_familia_final.parquet')\n",
    "\n",
    "#Definindo as operações que serão executadas apenas em momentos oportunos:\n",
    "resultado=(df_lazy.filter(pl.col(\"NOME MUNICÍPIO\")==\"RIO DE JANEIRO\").collect())"
   ]
  },
  {
   "cell_type": "code",
   "execution_count": 3,
   "metadata": {},
   "outputs": [
    {
     "data": {
      "text/html": [
       "<div><style>\n",
       ".dataframe > thead > tr,\n",
       ".dataframe > tbody > tr {\n",
       "  text-align: right;\n",
       "  white-space: pre-wrap;\n",
       "}\n",
       "</style>\n",
       "<small>shape: (3_451_524, 9)</small><table border=\"1\" class=\"dataframe\"><thead><tr><th>MÊS COMPETÊNCIA</th><th>MÊS REFERÊNCIA</th><th>UF</th><th>CÓDIGO MUNICÍPIO SIAFI</th><th>NOME MUNICÍPIO</th><th>CPF FAVORECIDO</th><th>NIS FAVORECIDO</th><th>NOME FAVORECIDO</th><th>VALOR PARCELA</th></tr><tr><td>i64</td><td>i64</td><td>str</td><td>i64</td><td>str</td><td>str</td><td>i64</td><td>str</td><td>str</td></tr></thead><tbody><tr><td>202401</td><td>202303</td><td>&quot;RJ&quot;</td><td>6001</td><td>&quot;RIO DE JANEIRO&quot;</td><td>&quot;***.020.557-**&quot;</td><td>16662936511</td><td>&quot;NATHALIA IATH DE ARAUJO SILVA&quot;</td><td>&quot;750,00&quot;</td></tr><tr><td>202401</td><td>202303</td><td>&quot;RJ&quot;</td><td>6001</td><td>&quot;RIO DE JANEIRO&quot;</td><td>&quot;***.822.577-**&quot;</td><td>16620773428</td><td>&quot;VANESSA RODRIGUES DO AMPARO&quot;</td><td>&quot;800,00&quot;</td></tr><tr><td>202401</td><td>202304</td><td>&quot;RJ&quot;</td><td>6001</td><td>&quot;RIO DE JANEIRO&quot;</td><td>&quot;***.020.557-**&quot;</td><td>16662936511</td><td>&quot;NATHALIA IATH DE ARAUJO SILVA&quot;</td><td>&quot;750,00&quot;</td></tr><tr><td>202401</td><td>202304</td><td>&quot;RJ&quot;</td><td>6001</td><td>&quot;RIO DE JANEIRO&quot;</td><td>&quot;***.822.577-**&quot;</td><td>16620773428</td><td>&quot;VANESSA RODRIGUES DO AMPARO&quot;</td><td>&quot;800,00&quot;</td></tr><tr><td>202401</td><td>202305</td><td>&quot;RJ&quot;</td><td>6001</td><td>&quot;RIO DE JANEIRO&quot;</td><td>&quot;***.020.557-**&quot;</td><td>16662936511</td><td>&quot;NATHALIA IATH DE ARAUJO SILVA&quot;</td><td>&quot;750,00&quot;</td></tr><tr><td>&hellip;</td><td>&hellip;</td><td>&hellip;</td><td>&hellip;</td><td>&hellip;</td><td>&hellip;</td><td>&hellip;</td><td>&hellip;</td><td>&hellip;</td></tr><tr><td>202402</td><td>202402</td><td>&quot;RJ&quot;</td><td>6001</td><td>&quot;RIO DE JANEIRO&quot;</td><td>&quot;***.675.377-**&quot;</td><td>16632293450</td><td>&quot;ZULNARA XAVIER DA SILVA RODRIG…</td><td>&quot;600,00&quot;</td></tr><tr><td>202402</td><td>202402</td><td>&quot;RJ&quot;</td><td>6001</td><td>&quot;RIO DE JANEIRO&quot;</td><td>&quot;***.890.187-**&quot;</td><td>12164939451</td><td>&quot;ZULZIMAR DOS SANTOS PIRES&quot;</td><td>&quot;600,00&quot;</td></tr><tr><td>202402</td><td>202402</td><td>&quot;RJ&quot;</td><td>6001</td><td>&quot;RIO DE JANEIRO&quot;</td><td>&quot;***.963.237-**&quot;</td><td>12288562597</td><td>&quot;ZUMILDO BATISTA DOS SANTOS&quot;</td><td>&quot;650,00&quot;</td></tr><tr><td>202402</td><td>202402</td><td>&quot;RJ&quot;</td><td>6001</td><td>&quot;RIO DE JANEIRO&quot;</td><td>&quot;&quot;</td><td>13699562815</td><td>&quot;ZUREMA PATRICIA DE SOUSA GASPA…</td><td>&quot;650,00&quot;</td></tr><tr><td>202402</td><td>202402</td><td>&quot;RJ&quot;</td><td>6001</td><td>&quot;RIO DE JANEIRO&quot;</td><td>&quot;***.441.847-**&quot;</td><td>20147890920</td><td>&quot;ZUZILENE SANTOS SILVA&quot;</td><td>&quot;700,00&quot;</td></tr></tbody></table></div>"
      ],
      "text/plain": [
       "shape: (3_451_524, 9)\n",
       "┌────────────┬────────────┬─────┬────────────┬───┬────────────┬────────────┬───────────┬───────────┐\n",
       "│ MÊS COMPET ┆ MÊS        ┆ UF  ┆ CÓDIGO     ┆ … ┆ CPF        ┆ NIS        ┆ NOME FAVO ┆ VALOR     │\n",
       "│ ÊNCIA      ┆ REFERÊNCIA ┆ --- ┆ MUNICÍPIO  ┆   ┆ FAVORECIDO ┆ FAVORECIDO ┆ RECIDO    ┆ PARCELA   │\n",
       "│ ---        ┆ ---        ┆ str ┆ SIAFI      ┆   ┆ ---        ┆ ---        ┆ ---       ┆ ---       │\n",
       "│ i64        ┆ i64        ┆     ┆ ---        ┆   ┆ str        ┆ i64        ┆ str       ┆ str       │\n",
       "│            ┆            ┆     ┆ i64        ┆   ┆            ┆            ┆           ┆           │\n",
       "╞════════════╪════════════╪═════╪════════════╪═══╪════════════╪════════════╪═══════════╪═══════════╡\n",
       "│ 202401     ┆ 202303     ┆ RJ  ┆ 6001       ┆ … ┆ ***.020.55 ┆ 1666293651 ┆ NATHALIA  ┆ 750,00    │\n",
       "│            ┆            ┆     ┆            ┆   ┆ 7-**       ┆ 1          ┆ IATH DE   ┆           │\n",
       "│            ┆            ┆     ┆            ┆   ┆            ┆            ┆ ARAUJO    ┆           │\n",
       "│            ┆            ┆     ┆            ┆   ┆            ┆            ┆ SILVA     ┆           │\n",
       "│ 202401     ┆ 202303     ┆ RJ  ┆ 6001       ┆ … ┆ ***.822.57 ┆ 1662077342 ┆ VANESSA   ┆ 800,00    │\n",
       "│            ┆            ┆     ┆            ┆   ┆ 7-**       ┆ 8          ┆ RODRIGUES ┆           │\n",
       "│            ┆            ┆     ┆            ┆   ┆            ┆            ┆ DO AMPARO ┆           │\n",
       "│ 202401     ┆ 202304     ┆ RJ  ┆ 6001       ┆ … ┆ ***.020.55 ┆ 1666293651 ┆ NATHALIA  ┆ 750,00    │\n",
       "│            ┆            ┆     ┆            ┆   ┆ 7-**       ┆ 1          ┆ IATH DE   ┆           │\n",
       "│            ┆            ┆     ┆            ┆   ┆            ┆            ┆ ARAUJO    ┆           │\n",
       "│            ┆            ┆     ┆            ┆   ┆            ┆            ┆ SILVA     ┆           │\n",
       "│ 202401     ┆ 202304     ┆ RJ  ┆ 6001       ┆ … ┆ ***.822.57 ┆ 1662077342 ┆ VANESSA   ┆ 800,00    │\n",
       "│            ┆            ┆     ┆            ┆   ┆ 7-**       ┆ 8          ┆ RODRIGUES ┆           │\n",
       "│            ┆            ┆     ┆            ┆   ┆            ┆            ┆ DO AMPARO ┆           │\n",
       "│ 202401     ┆ 202305     ┆ RJ  ┆ 6001       ┆ … ┆ ***.020.55 ┆ 1666293651 ┆ NATHALIA  ┆ 750,00    │\n",
       "│            ┆            ┆     ┆            ┆   ┆ 7-**       ┆ 1          ┆ IATH DE   ┆           │\n",
       "│            ┆            ┆     ┆            ┆   ┆            ┆            ┆ ARAUJO    ┆           │\n",
       "│            ┆            ┆     ┆            ┆   ┆            ┆            ┆ SILVA     ┆           │\n",
       "│ …          ┆ …          ┆ …   ┆ …          ┆ … ┆ …          ┆ …          ┆ …         ┆ …         │\n",
       "│ 202402     ┆ 202402     ┆ RJ  ┆ 6001       ┆ … ┆ ***.675.37 ┆ 1663229345 ┆ ZULNARA   ┆ 600,00    │\n",
       "│            ┆            ┆     ┆            ┆   ┆ 7-**       ┆ 0          ┆ XAVIER DA ┆           │\n",
       "│            ┆            ┆     ┆            ┆   ┆            ┆            ┆ SILVA     ┆           │\n",
       "│            ┆            ┆     ┆            ┆   ┆            ┆            ┆ RODRIG…   ┆           │\n",
       "│ 202402     ┆ 202402     ┆ RJ  ┆ 6001       ┆ … ┆ ***.890.18 ┆ 1216493945 ┆ ZULZIMAR  ┆ 600,00    │\n",
       "│            ┆            ┆     ┆            ┆   ┆ 7-**       ┆ 1          ┆ DOS       ┆           │\n",
       "│            ┆            ┆     ┆            ┆   ┆            ┆            ┆ SANTOS    ┆           │\n",
       "│            ┆            ┆     ┆            ┆   ┆            ┆            ┆ PIRES     ┆           │\n",
       "│ 202402     ┆ 202402     ┆ RJ  ┆ 6001       ┆ … ┆ ***.963.23 ┆ 1228856259 ┆ ZUMILDO   ┆ 650,00    │\n",
       "│            ┆            ┆     ┆            ┆   ┆ 7-**       ┆ 7          ┆ BATISTA   ┆           │\n",
       "│            ┆            ┆     ┆            ┆   ┆            ┆            ┆ DOS       ┆           │\n",
       "│            ┆            ┆     ┆            ┆   ┆            ┆            ┆ SANTOS    ┆           │\n",
       "│ 202402     ┆ 202402     ┆ RJ  ┆ 6001       ┆ … ┆            ┆ 1369956281 ┆ ZUREMA    ┆ 650,00    │\n",
       "│            ┆            ┆     ┆            ┆   ┆            ┆ 5          ┆ PATRICIA  ┆           │\n",
       "│            ┆            ┆     ┆            ┆   ┆            ┆            ┆ DE SOUSA  ┆           │\n",
       "│            ┆            ┆     ┆            ┆   ┆            ┆            ┆ GASPA…    ┆           │\n",
       "│ 202402     ┆ 202402     ┆ RJ  ┆ 6001       ┆ … ┆ ***.441.84 ┆ 2014789092 ┆ ZUZILENE  ┆ 700,00    │\n",
       "│            ┆            ┆     ┆            ┆   ┆ 7-**       ┆ 0          ┆ SANTOS    ┆           │\n",
       "│            ┆            ┆     ┆            ┆   ┆            ┆            ┆ SILVA     ┆           │\n",
       "└────────────┴────────────┴─────┴────────────┴───┴────────────┴────────────┴───────────┴───────────┘"
      ]
     },
     "metadata": {},
     "output_type": "display_data"
    }
   ],
   "source": [
    "display(resultado)"
   ]
  },
  {
   "cell_type": "markdown",
   "metadata": {},
   "source": [
    "**Monitoramento de Recursos:**\n",
    "\n",
    "A biblioteca *psutil* permite verificar condições como consumo de memória e CPU."
   ]
  },
  {
   "cell_type": "code",
   "execution_count": 5,
   "metadata": {},
   "outputs": [
    {
     "name": "stdout",
     "output_type": "stream",
     "text": [
      "Uso de CPU: 0.0 %\n",
      "Uso de Memória: 1578.703125 MB\n"
     ]
    }
   ],
   "source": [
    "import psutil\n",
    "\n",
    "processo=psutil.Process()\n",
    "print('Uso de CPU:', processo.cpu_percent(),'%')\n",
    "print('Uso de Memória:',processo.memory_info().rss/(1024**2),'MB')\n"
   ]
  }
 ],
 "metadata": {
  "kernelspec": {
   "display_name": "virtual1",
   "language": "python",
   "name": "python3"
  },
  "language_info": {
   "codemirror_mode": {
    "name": "ipython",
    "version": 3
   },
   "file_extension": ".py",
   "mimetype": "text/x-python",
   "name": "python",
   "nbconvert_exporter": "python",
   "pygments_lexer": "ipython3",
   "version": "3.11.4"
  },
  "orig_nbformat": 4
 },
 "nbformat": 4,
 "nbformat_minor": 2
}
